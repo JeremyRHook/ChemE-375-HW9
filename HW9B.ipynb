{
 "cells": [
  {
   "cell_type": "markdown",
   "metadata": {},
   "source": [
    "# Homework 9b\n",
    "## Symbolic math\n",
    "\n",
    "### Problem 1\n",
    "#### Part a\n",
    "\n",
    "Import the library needed for using symbolic math in python. Also setup the notebook for printing."
   ]
  },
  {
   "cell_type": "code",
   "execution_count": 5,
   "metadata": {},
   "outputs": [],
   "source": [
    "import sympy as sp\n",
    "sp.init_printing()"
   ]
  },
  {
   "cell_type": "code",
   "execution_count": null,
   "metadata": {},
   "outputs": [],
   "source": []
  },
  {
   "cell_type": "markdown",
   "metadata": {},
   "source": [
    "#### Part b\n",
    "Set variables x, y, z, and function f, and g."
   ]
  },
  {
   "cell_type": "code",
   "execution_count": 6,
   "metadata": {},
   "outputs": [
    {
     "name": "stdout",
     "output_type": "stream",
     "text": [
      "x + y + z\n"
     ]
    }
   ],
   "source": [
    "x = sp.Symbol('x')\n",
    "y,z = sp.symbols('y,z')\n",
    "\n",
    "f = sp.Function('f')\n",
    "g = x + y + z\n",
    "print (g)"
   ]
  },
  {
   "cell_type": "markdown",
   "metadata": {},
   "source": [
    "#### Part c\n",
    "\n",
    "Set an expression for the following: $$x^2+2x-5.$$\n"
   ]
  },
  {
   "cell_type": "code",
   "execution_count": 8,
   "metadata": {},
   "outputs": [
    {
     "data": {
      "image/png": "[encoded data removed]",
      "text/latex": [
       "$\\displaystyle x^{2} + 2 x - 5$"
      ],
      "text/plain": [
       " 2          \n",
       "x  + 2⋅x - 5"
      ]
     },
     "execution_count": 8,
     "metadata": {},
     "output_type": "execute_result"
    }
   ],
   "source": [
    "h = x**2 + 2*x - 5\n",
    "h"
   ]
  },
  {
   "cell_type": "code",
   "execution_count": null,
   "metadata": {},
   "outputs": [],
   "source": []
  },
  {
   "cell_type": "markdown",
   "metadata": {},
   "source": [
    " #### Part d\n",
    " \n",
    "Evaluate the expression for $x=1.5$. Also, make a variable substitution: $z$ for $x$. Do a variable substitution $y^2$ for x. "
   ]
  },
  {
   "cell_type": "code",
   "execution_count": 9,
   "metadata": {},
   "outputs": [
    {
     "name": "stdout",
     "output_type": "stream",
     "text": [
      "0.250000000000000\n",
      "z**2 + 2*z - 5\n",
      "y**4 + 2*y**2 - 5\n"
     ]
    }
   ],
   "source": [
    "print(h.subs(x,1.5))\n",
    "print(h.subs(x,z))\n",
    "print(h.subs(x,y**2))"
   ]
  },
  {
   "cell_type": "code",
   "execution_count": null,
   "metadata": {},
   "outputs": [],
   "source": []
  },
  {
   "cell_type": "markdown",
   "metadata": {},
   "source": [
    "### Problem 2\n",
    "#### Part a\n",
    "\n",
    "Simplify the following expression:\n",
    "$$\\frac{x^2 - x - 6}{x^2-3x}.$$"
   ]
  },
  {
   "cell_type": "code",
   "execution_count": 11,
   "metadata": {},
   "outputs": [
    {
     "data": {
      "image/png": "[encoded data removed]",
      "text/latex": [
       "$\\displaystyle \\frac{x + 2}{x}$"
      ],
      "text/plain": [
       "x + 2\n",
       "─────\n",
       "  x  "
      ]
     },
     "execution_count": 11,
     "metadata": {},
     "output_type": "execute_result"
    }
   ],
   "source": [
    "f = (x**2 - x - 6) / (x**2 - 3*x)\n",
    "sp.simplify(f)"
   ]
  },
  {
   "cell_type": "code",
   "execution_count": null,
   "metadata": {},
   "outputs": [],
   "source": []
  },
  {
   "cell_type": "markdown",
   "metadata": {},
   "source": [
    "#### Part b\n",
    "\n",
    "Expand the following expression symbolically: $$(x+1)^3(x-2)^2.$$"
   ]
  },
  {
   "cell_type": "code",
   "execution_count": 18,
   "metadata": {},
   "outputs": [
    {
     "data": {
      "image/png": "[encoded data removed]",
      "text/latex": [
       "$\\displaystyle x^{5} - x^{4} - 5 x^{3} + x^{2} + 8 x + 4$"
      ],
      "text/plain": [
       " 5    4      3    2          \n",
       "x  - x  - 5⋅x  + x  + 8⋅x + 4"
      ]
     },
     "execution_count": 18,
     "metadata": {},
     "output_type": "execute_result"
    }
   ],
   "source": [
    "f = (x + 1)**3 * (x-2)**2\n",
    "sp.expand(f)\n"
   ]
  },
  {
   "cell_type": "code",
   "execution_count": null,
   "metadata": {},
   "outputs": [],
   "source": []
  },
  {
   "cell_type": "markdown",
   "metadata": {},
   "source": [
    "#### Part c\n",
    "Factor the following expression: $$3x^4 - 36x^3+99x^2-6x-144.$$"
   ]
  },
  {
   "cell_type": "code",
   "execution_count": 19,
   "metadata": {},
   "outputs": [
    {
     "data": {
      "image/png": "[encoded data removed]",
      "text/latex": [
       "$\\displaystyle 3 \\left(x - 8\\right) \\left(x - 3\\right) \\left(x - 2\\right) \\left(x + 1\\right)$"
      ],
      "text/plain": [
       "3⋅(x - 8)⋅(x - 3)⋅(x - 2)⋅(x + 1)"
      ]
     },
     "execution_count": 19,
     "metadata": {},
     "output_type": "execute_result"
    }
   ],
   "source": [
    "f = 3*x**4 - 36*x**3 + 99*x**2 - 6*x - 144\n",
    "sp.factor(f)"
   ]
  },
  {
   "cell_type": "code",
   "execution_count": null,
   "metadata": {},
   "outputs": [],
   "source": []
  },
  {
   "cell_type": "markdown",
   "metadata": {},
   "source": [
    "### Problem 3\n",
    "#### Part a\n",
    "Compute the symbolic derivative: $$\\frac{d}{dx}\\sin^2(x)e^{2x}.$$\n",
    "Then evaluate the resulting expression for $x=3.3.$"
   ]
  },
  {
   "cell_type": "code",
   "execution_count": 21,
   "metadata": {},
   "outputs": [
    {
     "data": {
      "image/png": "[encoded data removed]",
      "text/latex": [
       "$\\displaystyle 265.596339800896$"
      ],
      "text/plain": [
       "265.596339800896"
      ]
     },
     "execution_count": 21,
     "metadata": {},
     "output_type": "execute_result"
    }
   ],
   "source": [
    "y = (sp.sin(x))**2 * sp.exp(2*x)\n",
    "z = sp.diff(y,x)\n",
    "z.subs(x,3.3)"
   ]
  },
  {
   "cell_type": "code",
   "execution_count": null,
   "metadata": {},
   "outputs": [],
   "source": []
  },
  {
   "cell_type": "markdown",
   "metadata": {},
   "source": [
    "#### Part b\n",
    "Create a sympy expression representing the following integral:\n",
    "$$\\int_0^5x^2\\sin(x^2)dx.$$\n",
    "\n",
    "Then evaluate the integral symbolically."
   ]
  },
  {
   "cell_type": "code",
   "execution_count": 23,
   "metadata": {},
   "outputs": [
    {
     "data": {
      "image/png": "[encoded data removed]",
      "text/latex": [
       "$\\displaystyle -2.17227364646045$"
      ],
      "text/plain": [
       "-2.17227364646045"
      ]
     },
     "execution_count": 23,
     "metadata": {},
     "output_type": "execute_result"
    }
   ],
   "source": [
    "f = x**2 * sp.sin(x**2)\n",
    "g = sp.integrate(f,(x,0,5))\n",
    "g.evalf()"
   ]
  },
  {
   "cell_type": "code",
   "execution_count": null,
   "metadata": {},
   "outputs": [],
   "source": []
  },
  {
   "cell_type": "markdown",
   "metadata": {},
   "source": [
    "### Problem 4\n",
    "#### Part a\n",
    "Solve for the roots of the following equation: $$x^3+15x^2=3x-10.$$\n",
    "Use the ```Eq``` and ```solve``` functions and save as an expression. Show the expression (it will be a list). Then find the numerical value of each root using the evalf function. You can use evalf on some expression using ```my_expression.evalf()```."
   ]
  },
  {
   "cell_type": "code",
   "execution_count": 26,
   "metadata": {},
   "outputs": [
    {
     "name": "stdout",
     "output_type": "stream",
     "text": [
      "0.119953874110975 + 0.801113611837881*I\n",
      "0.119953874110975 - 0.801113611837881*I\n",
      "-15.2399077482219\n",
      "0.119953874110975 + 0.801113611837881*I\n",
      "0.119953874110975 - 0.801113611837881*I\n",
      "-15.2399077482219\n"
     ]
    }
   ],
   "source": [
    "y = sp.Eq(x**3 + 15*x**2, 3*x - 10)\n",
    "z = sp.solve(y,x)\n",
    "print(z[0].evalf())\n",
    "print(z[1].evalf())\n",
    "print(z[2].evalf())\n",
    "\n",
    "for w in z:\n",
    "    print(w.evalf())\n",
    "    "
   ]
  },
  {
   "cell_type": "code",
   "execution_count": null,
   "metadata": {},
   "outputs": [],
   "source": []
  },
  {
   "cell_type": "markdown",
   "metadata": {},
   "source": [
    "#### Part b\n",
    "Solve the system of three equations in three unknowns symbolically:\n",
    "\\begin{align}\n",
    "x+y+z&=0 \\\\\n",
    "2x-y-z&=10 \\\\\n",
    "y+2z&=5\n",
    "\\end{align}\n",
    "Compare the result to the answer computed with fsolve from scipy.optimize."
   ]
  },
  {
   "cell_type": "code",
   "execution_count": 34,
   "metadata": {},
   "outputs": [
    {
     "data": {
      "image/png": "[encoded data removed]",
      "text/latex": [
       "$\\displaystyle \\left\\{ x : \\frac{10}{3}, \\  y : - \\frac{35}{3}, \\  z : \\frac{25}{3}\\right\\}$"
      ],
      "text/plain": [
       "{x: 10/3, y: -35/3, z: 25/3}"
      ]
     },
     "execution_count": 34,
     "metadata": {},
     "output_type": "execute_result"
    }
   ],
   "source": [
    "x,y,z = sp.symbols('x,y,z')\n",
    "eq1 = sp.Eq(x+y+z,0)\n",
    "eq2 = sp.Eq(2*x-y-z,10)\n",
    "eq3 = sp.Eq(y+2*z,5)\n",
    "sp.solve([eq1,eq2,eq3],[x,y,z])\n",
    "\n"
   ]
  },
  {
   "cell_type": "code",
   "execution_count": 37,
   "metadata": {},
   "outputs": [
    {
     "data": {
      "image/png": "[encoded data removed]",
      "text/latex": [
       "$\\displaystyle \\left[ 3.3333333333333335, \\  -11.666666666666666, \\  8.333333333333334\\right]$"
      ],
      "text/plain": [
       "[3.3333333333333335, -11.666666666666666, 8.333333333333334]"
      ]
     },
     "execution_count": 37,
     "metadata": {},
     "output_type": "execute_result"
    }
   ],
   "source": [
    "[(10/3),(-35/3),(25/3)]"
   ]
  },
  {
   "cell_type": "code",
   "execution_count": 30,
   "metadata": {},
   "outputs": [
    {
     "name": "stdout",
     "output_type": "stream",
     "text": [
      "[  3.33333333 -11.66666667   8.33333333]\n"
     ]
    }
   ],
   "source": [
    "from scipy.optimize import fsolve\n",
    "def f(w):\n",
    "    x = w[0]\n",
    "    y = w[1]\n",
    "    z = w[2]\n",
    "    \n",
    "    f1 = x + y + z\n",
    "    f2 = 2*x -y -z - 10\n",
    "    f3 = y + 2*z -5\n",
    "    return[f1,f2,f3]\n",
    "result = fsolve(f,[0,0,0])\n",
    "print(result)"
   ]
  },
  {
   "cell_type": "code",
   "execution_count": null,
   "metadata": {},
   "outputs": [],
   "source": []
  },
  {
   "cell_type": "markdown",
   "metadata": {},
   "source": [
    "#### Part c\n",
    "Solve the following differential equation symbolically using the ```dsolve``` function:\n",
    "$$\\frac{df(x)}{dx} = x\\cos(x).$$"
   ]
  },
  {
   "cell_type": "code",
   "execution_count": 42,
   "metadata": {},
   "outputs": [
    {
     "data": {
      "image/png": "[encoded data removed]",
      "text/latex": [
       "$\\displaystyle x \\sin{\\left(x \\right)} + \\cos{\\left(x \\right)}$"
      ],
      "text/plain": [
       "x⋅sin(x) + cos(x)"
      ]
     },
     "execution_count": 42,
     "metadata": {},
     "output_type": "execute_result"
    }
   ],
   "source": [
    "f = sp.Function('f')\n",
    "y = sp.dsolve(sp.Derivative(f(x),x)-x*sp.cos(x),f(x))\n",
    "#print(y)\n",
    "z = sp.integrate(x*sp.cos(x))\n",
    "z\n"
   ]
  },
  {
   "cell_type": "code",
   "execution_count": null,
   "metadata": {},
   "outputs": [],
   "source": []
  },
  {
   "cell_type": "markdown",
   "metadata": {},
   "source": [
    "### Problem 5\n",
    "#### Part a\n",
    "For the system $Ax=b$ with\n",
    "$$ A = \\left[\\begin{matrix}\n",
    "1 & 2 & 5 \\\\\n",
    "3 & 4 & 6 \\\\\n",
    "-1 & 0 & 3\n",
    "\\end{matrix}\\right],$$\n",
    "$$b = \\left[\\begin{matrix}\n",
    "1 \\\\\n",
    "0 \\\\\n",
    "-2\n",
    "\\end{matrix}\\right].$$\n",
    "Setup the matrices $A$ and $b$\n"
   ]
  },
  {
   "cell_type": "code",
   "execution_count": 64,
   "metadata": {},
   "outputs": [
    {
     "name": "stdout",
     "output_type": "stream",
     "text": [
      "⎡1   2  5⎤\n",
      "⎢        ⎥\n",
      "⎢3   4  6⎥\n",
      "⎢        ⎥\n",
      "⎣-1  0  3⎦\n",
      "⎡1 ⎤\n",
      "⎢  ⎥\n",
      "⎢0 ⎥\n",
      "⎢  ⎥\n",
      "⎣-2⎦\n"
     ]
    },
    {
     "data": {
      "text/latex": [
       "$\\displaystyle \\left( \\left[\\begin{matrix}1 & 2 & 5\\\\3 & 4 & 6\\\\-1 & 0 & 3\\end{matrix}\\right], \\  \\left[\\begin{matrix}1\\\\0\\\\-2\\end{matrix}\\right]\\right)$"
      ],
      "text/plain": [
       "⎛⎡1   2  5⎤  ⎡1 ⎤⎞\n",
       "⎜⎢        ⎥  ⎢  ⎥⎟\n",
       "⎜⎢3   4  6⎥, ⎢0 ⎥⎟\n",
       "⎜⎢        ⎥  ⎢  ⎥⎟\n",
       "⎝⎣-1  0  3⎦  ⎣-2⎦⎠"
      ]
     },
     "execution_count": 64,
     "metadata": {},
     "output_type": "execute_result"
    }
   ],
   "source": [
    "A = sp.Matrix([[1,2,5],[3,4,6],[-1,0,3]])\n",
    "b = sp.Matrix([1,0,-2])\n",
    "sp.pprint(A)\n",
    "sp.pprint(b)\n",
    "A,b"
   ]
  },
  {
   "cell_type": "code",
   "execution_count": null,
   "metadata": {},
   "outputs": [],
   "source": []
  },
  {
   "cell_type": "markdown",
   "metadata": {},
   "source": [
    "#### Part b\n",
    "For the system in Part a, solve for matrix $x$ by matrix algebra."
   ]
  },
  {
   "cell_type": "code",
   "execution_count": 63,
   "metadata": {},
   "outputs": [
    {
     "name": "stdout",
     "output_type": "stream",
     "text": [
      "⎡ 14  ⎤\n",
      "⎢     ⎥\n",
      "⎢-33/2⎥\n",
      "⎢     ⎥\n",
      "⎣  4  ⎦\n"
     ]
    },
    {
     "data": {
      "text/latex": [
       "$\\displaystyle \\left[\\begin{matrix}14\\\\- \\frac{33}{2}\\\\4\\end{matrix}\\right]$"
      ],
      "text/plain": [
       "⎡ 14  ⎤\n",
       "⎢     ⎥\n",
       "⎢-33/2⎥\n",
       "⎢     ⎥\n",
       "⎣  4  ⎦"
      ]
     },
     "execution_count": 63,
     "metadata": {},
     "output_type": "execute_result"
    }
   ],
   "source": [
    "sp.pprint(A.inv()*b)\n",
    "(A.inv()*b)"
   ]
  },
  {
   "cell_type": "code",
   "execution_count": null,
   "metadata": {},
   "outputs": [],
   "source": []
  },
  {
   "cell_type": "markdown",
   "metadata": {},
   "source": [
    "#### Part c\n",
    "\n",
    "For matrix A above, return the middle row, and the middle column."
   ]
  },
  {
   "cell_type": "code",
   "execution_count": 62,
   "metadata": {},
   "outputs": [
    {
     "name": "stdout",
     "output_type": "stream",
     "text": [
      "⎡1   2  5⎤\n",
      "⎢        ⎥\n",
      "⎢3   4  6⎥\n",
      "⎢        ⎥\n",
      "⎣-1  0  3⎦\n",
      "[3  4  6]\n",
      "⎡2⎤\n",
      "⎢ ⎥\n",
      "⎢4⎥\n",
      "⎢ ⎥\n",
      "⎣0⎦\n"
     ]
    },
    {
     "data": {
      "text/latex": [
       "$\\displaystyle \\left( \\left[\\begin{matrix}3 & 4 & 6\\end{matrix}\\right], \\  \\left[\\begin{matrix}2\\\\4\\\\0\\end{matrix}\\right]\\right)$"
      ],
      "text/plain": [
       "⎛           ⎡2⎤⎞\n",
       "⎜           ⎢ ⎥⎟\n",
       "⎜[3  4  6], ⎢4⎥⎟\n",
       "⎜           ⎢ ⎥⎟\n",
       "⎝           ⎣0⎦⎠"
      ]
     },
     "execution_count": 62,
     "metadata": {},
     "output_type": "execute_result"
    }
   ],
   "source": [
    "sp.pprint(A)\n",
    "\n",
    "sp.pprint(A[1:2,:])\n",
    "sp.pprint(A[:,1:2])\n",
    "A[1:2,:],A[:,1:2]"
   ]
  },
  {
   "cell_type": "code",
   "execution_count": null,
   "metadata": {},
   "outputs": [],
   "source": []
  },
  {
   "cell_type": "markdown",
   "metadata": {},
   "source": [
    "#### Part d\n",
    "Create a matrix $M$ using the ```zeros``` function that has 2 rows and 2 columns. Fill in some values using array notation (like M[i,j]=value)."
   ]
  },
  {
   "cell_type": "code",
   "execution_count": 61,
   "metadata": {},
   "outputs": [
    {
     "name": "stdout",
     "output_type": "stream",
     "text": [
      "⎡0  0⎤\n",
      "⎢    ⎥\n",
      "⎣x  5⎦\n"
     ]
    },
    {
     "data": {
      "text/latex": [
       "$\\displaystyle \\left[\\begin{matrix}0 & 0\\\\x & 5\\end{matrix}\\right]$"
      ],
      "text/plain": [
       "⎡0  0⎤\n",
       "⎢    ⎥\n",
       "⎣x  5⎦"
      ]
     },
     "execution_count": 61,
     "metadata": {},
     "output_type": "execute_result"
    }
   ],
   "source": [
    "M = sp.zeros(2,2)\n",
    "M[1,1] = 5 \n",
    "M[1,0] = x\n",
    "sp.pprint(M)\n",
    "M"
   ]
  },
  {
   "cell_type": "code",
   "execution_count": null,
   "metadata": {},
   "outputs": [],
   "source": []
  }
 ],
 "metadata": {
  "kernelspec": {
   "display_name": "Python 3",
   "language": "python",
   "name": "python3"
  },
  "language_info": {
   "codemirror_mode": {
    "name": "ipython",
    "version": 3
   },
   "file_extension": ".py",
   "mimetype": "text/x-python",
   "name": "python",
   "nbconvert_exporter": "python",
   "pygments_lexer": "ipython3",
   "version": "3.7.4"
  }
 },
 "nbformat": 4,
 "nbformat_minor": 1
}